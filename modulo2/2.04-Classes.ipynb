{
 "cells": [
  {
   "cell_type": "markdown",
   "metadata": {},
   "source": [
    "> Projeto Desenvolve <br>\n",
    "Programação Intermediária com Python <br>\n",
    "Profa. Camila Laranjeira (mila@projetodesenvolve.com.br) <br>\n",
    "\n",
    "# 2.4 - Classes, atributos e métodos"
   ]
  },
  {
   "cell_type": "markdown",
   "metadata": {},
   "source": [
    "## Exercícios\n",
    "\n",
    "#### Q1.\n",
    "Vamos criar aos pouquinhos uma classe Evento que registra eventos de um calendário. Pra começar, nessa questão você deve:\n",
    "\n",
    "* Criar uma classe chamada Evento\n",
    "* Adicionar um atributo de classe `total_eventos` que será usado para contar o número total de eventos (instâncias de classe) criadas.\n",
    "* Implemente o método construtor que deve receber os parâmetros `titulo` (`string`), `data_hora` (`datetime`), `descrição` (`string`). Crie e inicialize um atributo de instância para cada um dos parâmetros citados.\n",
    "* O construtor também deve inicializar um atributo de instância `is_concluido = False`. Esse atributo será utilizado mais à frente. \n",
    "* No construtor você também deve incrementar o atributo de classe `total_eventos` em 1 a cada nova instância criada.\n",
    "\n",
    "Teste o seu código criando duas diferentes instâncias de evento (preencha os atributos como quiser) e imprimindo todos os seus atributos (de classe e de instância).\n",
    "\n",
    "> Consulte [este tutorial biblioteca `datetime`](https://www.w3schools.com/python/python_datetime.asp) caso não esteja familiarizado."
   ]
  },
  {
   "cell_type": "code",
   "execution_count": 6,
   "metadata": {},
   "outputs": [
    {
     "name": "stdout",
     "output_type": "stream",
     "text": [
      "1\n",
      "comer\n",
      "2024-09-28 16:09:25.443065\n",
      "bora ao mossar\n",
      "False\n",
      "2\n",
      "janta\n",
      "2024-09-28 16:09:25.443165\n",
      "Tá na mesa\n",
      "False\n"
     ]
    }
   ],
   "source": [
    "### Escreva seu código aqui\n",
    "\n",
    "import datetime\n",
    "\n",
    "class Evento():\n",
    "    total_eventos = 0\n",
    "    \n",
    "    def __init__(self,titulo, data_hora, descricao):\n",
    "        self.titulo = titulo\n",
    "        self.data_hora = data_hora\n",
    "        self.descricao = descricao\n",
    "        self.is_concluido = False\n",
    "        self.__class__.total_eventos += 1\n",
    "\n",
    "    def imprimir_atributos(self):\n",
    "        print(self.titulo)\n",
    "        print(self.data_hora)\n",
    "        print(self.descricao)\n",
    "        print(self.is_concluido)\n",
    "\n",
    "    @classmethod\n",
    "    def imprimir_total_de_eventos(cls):\n",
    "        print(cls.total_eventos)\n",
    "\n",
    "ev1 = Evento('comer', datetime.datetime.now(), 'bora ao mossar')\n",
    "ev1.imprimir_total_de_eventos()\n",
    "ev1.imprimir_atributos()\n",
    "ev2 = Evento('janta', datetime.datetime.now(), 'Tá na mesa')\n",
    "ev2.imprimir_total_de_eventos()\n",
    "ev2.imprimir_atributos()"
   ]
  },
  {
   "cell_type": "markdown",
   "metadata": {},
   "source": [
    "#### Q2.\n",
    "Agora vamos adicionar métodos à nossa classe. Lembre dos diferentes decoradores que aprendemos. Você deve redefinir a classe com os seguintes métodos:\n",
    "* Um método `isConcluido()` que avalia se a `data_hora` do evento é menor que `datetime.now()` (a data e hora atual). Em caso positivo, atualiza o atributo de instância `is_concluido` para o valor `True`. \n",
    "* Um método de classe `num_eventos()` que retorna o valor do atributo de classe `total_eventos`.\n",
    "* Um método estático `valida_evento(nome, data_hora, descricao)` que recebe os atributos de um evento e testa os tipos de cada variável, retornando `True` caso todos estejam corretos e `False` caso contrário. Para o teste, use a função nativa do Python [`isinstance`](https://www.w3schools.com/python/ref_func_isinstance.asp).\n",
    "\n",
    "Para testar sua classe atualizada:\n",
    "* Crie uma instância de Evento com valor passado e chame o método `isConcluido()` para a instância criada. Em seguida imprima o atributo `is_concluido`. \n",
    "* Invoque o método de classe `num_eventos()` a partir da classe Evento (ou seja, sem criar nenhuma instância).\n",
    "* Chame o método estático `valida_evento()` a partir da classe Evento. Experimente passar valores corretos e incorretos. \n"
   ]
  },
  {
   "cell_type": "code",
   "execution_count": 17,
   "metadata": {},
   "outputs": [
    {
     "name": "stdout",
     "output_type": "stream",
     "text": [
      "já concluído:  True\n",
      "não concluído:  False\n",
      "2\n",
      "Evento correto:  True\n",
      "Evento errado:  False\n"
     ]
    }
   ],
   "source": [
    "import datetime\n",
    "\n",
    "class Evento():\n",
    "    total_eventos = 0\n",
    "    \n",
    "    def __init__(self,titulo, data_hora, descricao):\n",
    "        self.titulo = titulo\n",
    "        self.data_hora = data_hora\n",
    "        self.descricao = descricao\n",
    "        self.is_concluido = False\n",
    "        self.__class__.total_eventos += 1\n",
    "\n",
    "    @classmethod\n",
    "    def num_eventos(cls):\n",
    "        print(cls.total_eventos)\n",
    "\n",
    "    \n",
    "    def isConcluido(self):\n",
    "        if self.data_hora <= datetime.datetime.now():\n",
    "            self.is_concluido = True \n",
    "    \n",
    "    @staticmethod\n",
    "    def valida_evento(nome,data_hora,descricao):\n",
    "        vnome = isinstance(nome, str)\n",
    "        vdata_hora = isinstance(data_hora, datetime.datetime)\n",
    "        vdescricao = isinstance(descricao, str)\n",
    "\n",
    "        if vnome and vdata_hora and vdescricao:\n",
    "            return True\n",
    "        else:\n",
    "            return False\n",
    "\n",
    "ev_concluido = Evento('teste', datetime.datetime.now(), 'testar is_concluido')\n",
    "ev_concluido.isConcluido()\n",
    "print('já concluído: ',ev_concluido.is_concluido)\n",
    "\n",
    "evento = Evento('cantar', datetime.datetime.strptime('30/09/2025 16:09', '%d/%m/%Y %H:%M'), 'top 10 fornas de descrever')\n",
    "evento.isConcluido()\n",
    "print('não concluído: ',evento.is_concluido)\n",
    "\n",
    "Evento.num_eventos()\n",
    "\n",
    "print('Evento correto: ',Evento.valida_evento('título correto', datetime.datetime.now(), 'descrição correta'))\n",
    "print('Evento errado: ',Evento.valida_evento(1, 'datetime.datetime.now()', datetime.datetime.now()))"
   ]
  },
  {
   "cell_type": "markdown",
   "metadata": {
    "vscode": {
     "languageId": "plaintext"
    }
   },
   "source": [
    "#### Q3.\n",
    "\n",
    "Vamos incluir métodos mágicos! ✨🪄🔮\n",
    "\n",
    "Redefina a classe incluindo\":\n",
    "* Método `__str__` que imprime os atributos do evento na forma `\"Evento: titulo, Data: data_hora, Descrição: descricao, Concluido: is_concluido\"`.\n",
    "* Implemente os métodos de comparação `__eq__`, `__ne__`, `__lt__`, `__le__`, `__gt__` e `__ge__` para comparar eventos baseados no atributo `data_hora`. Esses métodos devem comparar duas instâncias de Evento e retornar os resultados apropriados (`True` ou `False`).\n",
    "\n",
    "Para testar, crie duas instâncias de Evento com datas diferentes. Imprima as instâncias com a função `print()` e apresente o resultado das comparações entre eventos (`==`, `!=`, `<`, `<=`, `>`, `>=`)."
   ]
  },
  {
   "cell_type": "code",
   "execution_count": 21,
   "metadata": {},
   "outputs": [
    {
     "name": "stdout",
     "output_type": "stream",
     "text": [
      "Evento: teste, Data: 2024-09-29 16:26:46.902104, Descrição: teste, Concluído: False\n",
      "False\n",
      "True\n",
      "True\n",
      "True\n",
      "False\n",
      "False\n"
     ]
    }
   ],
   "source": [
    "import datetime\n",
    "\n",
    "class Evento():\n",
    "    \n",
    "    def __init__(self,titulo, data_hora, descricao):\n",
    "        self.titulo = titulo\n",
    "        self.data_hora = data_hora\n",
    "        self.descricao = descricao\n",
    "        self.is_concluido = False\n",
    "\n",
    "    def __str__(self):\n",
    "        return f'Evento: {self.titulo}, Data: {self.data_hora}, Descrição: {self.descricao}, Concluído: {self.is_concluido}'\n",
    "\n",
    "    def __eq__(self, other):\n",
    "        if self.data_hora == other.data_hora:\n",
    "            return True\n",
    "        else:\n",
    "            return False\n",
    "    \n",
    "    def __ne__(self, other):\n",
    "        if self.data_hora != other.data_hora:\n",
    "            return True\n",
    "        else:\n",
    "            return False\n",
    "        \n",
    "    def __lt__(self, other):\n",
    "        if self.data_hora < other.data_hora:\n",
    "            return True\n",
    "        else:\n",
    "            return False\n",
    "        \n",
    "    def __le__(self, other):\n",
    "        if self.data_hora <= other.data_hora:\n",
    "            return True\n",
    "        else:\n",
    "            return False\n",
    "        \n",
    "    def __gt__(self, other):\n",
    "        if self.data_hora > other.data_hora:\n",
    "            return True\n",
    "        else:\n",
    "            return False\n",
    "        \n",
    "    def __ge__(self, other):\n",
    "        if self.data_hora >= other.data_hora:\n",
    "            return True\n",
    "        else:\n",
    "            return False\n",
    "\n",
    "ev = Evento('teste', datetime.datetime.now(), 'teste')\n",
    "print(ev)\n",
    "\n",
    "ev2 = Evento('teste não concluído', datetime.datetime.strptime('30/09/2025 16:09', '%d/%m/%Y %H:%M'), 'não concluído')\n",
    "\n",
    "print(ev == ev2)\n",
    "print(ev != ev2)\n",
    "print(ev < ev2)\n",
    "print(ev <= ev2)\n",
    "print(ev > ev2)\n",
    "print(ev >= ev2)"
   ]
  }
 ],
 "metadata": {
  "kernelspec": {
   "display_name": "Python 3 (ipykernel)",
   "language": "python",
   "name": "python3"
  },
  "language_info": {
   "codemirror_mode": {
    "name": "ipython",
    "version": 3
   },
   "file_extension": ".py",
   "mimetype": "text/x-python",
   "name": "python",
   "nbconvert_exporter": "python",
   "pygments_lexer": "ipython3",
   "version": "3.12.6"
  }
 },
 "nbformat": 4,
 "nbformat_minor": 4
}
