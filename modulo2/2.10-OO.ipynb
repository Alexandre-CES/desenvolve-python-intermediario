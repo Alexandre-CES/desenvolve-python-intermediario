{
 "cells": [
  {
   "cell_type": "markdown",
   "metadata": {},
   "source": [
    "> Projeto Desenvolve <br>\n",
    "Programação Intermediária com Python <br>\n",
    "Profa. Camila Laranjeira (mila@projetodesenvolve.com.br) <br>\n",
    "\n",
    "# 2.5 a 2.10 - Pilares da OO"
   ]
  },
  {
   "cell_type": "markdown",
   "metadata": {},
   "source": [
    "## Exercícios\n",
    "\n",
    "#### Q1.\n",
    "Essa lista de exercícios terá como base a classe `Evento` criada em exercícios anteriores. Primeiramente criaremos a classe abstrata `EventoABC` com os métodos de instância abstratos `__str__(self)` e `isConcluido(self)`, indicando que todos as subclasses que dela herdarem devem implementar esses métodos.\n",
    "\n",
    "`EventoABC` também possui os atributos `_titulo` (string) e `_descricao` (string), cujos valores são recebidos e inicializados no construtor da classe. Note a convenção de nomenclatura indicando o caráter privado desses atributos."
   ]
  },
  {
   "cell_type": "code",
   "execution_count": 6,
   "metadata": {},
   "outputs": [],
   "source": [
    "#### Classe EventoABC\n",
    "\n",
    "from abc import ABC, abstractmethod\n",
    "\n",
    "class EventoABC(ABC):\n",
    "    def __init__(self, titulo, descricao):\n",
    "        self._titulo = titulo \n",
    "        self._descricao = descricao \n",
    "\n",
    "    @abstractmethod\n",
    "    def __str__(self): pass\n",
    "\n",
    "    @abstractmethod\n",
    "    def isConcluido(self): pass\n",
    "    "
   ]
  },
  {
   "cell_type": "markdown",
   "metadata": {
    "vscode": {
     "languageId": "plaintext"
    }
   },
   "source": [
    "#### Q2.\n",
    "\n",
    "Crie a classe `DataHora` que dará suporte ao registro de eventos de calendário.\n",
    "* A classe possui o atributo de instância `_data_hora` (datetime) privado e um atributo de classe `FORMAT` inicializado com a formatação de string aceito para `_data_hora`, ou seja, `FORMAT = '%d/%m/%Y, %H:%M'`.\n",
    "* A classe **não possui construtor customizado**. A alteração de seu atributo se dará a partir da propriedade a seguir.\n",
    "* Crie a `property` `data_hora` para manipular o atributo `_data_hora`.\n",
    "    * O getter da propriedade deve retornar a data como uma string formatada (`%d/%m/%Y, %H:%M`). Use o atributo `FORMAT`. Consulte o [funcionamento do método `strftime`](https://www.programiz.com/python-programming/datetime/strftime).\n",
    "    * O setter da propriedade deve receber uma string de data formatada (`%d/%m/%Y, %H:%M`) e implementar um bloco try-except que tenta converter a string em `datetime` e lança um `ValueError` caso a entrada seja inválida. Use o atributo `FORMAT`. Consulte o [funcionamento do método `strptime`](https://www.digitalocean.com/community/tutorials/python-string-to-datetime-strptime).\n",
    "* Crie o método de instância `isPassado(self)` que avalia se a `_data_hora` é menor que `datetime.now()` (a data e hora atual) e retorna `True` em caso positivo, e `False` caso contrário.\n",
    "* Crie o método de instância `somaDias(self, num_dias)` que recebe um inteiro `num_dias`, soma esse valor ao atributo interno `_data_hora` e retorna a string formatada do resultado da soma (código dado a seguir).   \n",
    "```python\n",
    "data_hora_somada = self._data_hora + datetime.timedelta(days=num_dias)\n",
    "return data_hora_somada.strftime(FORMAT)\n",
    "```\n",
    "\n",
    "Teste a classe `DataHora` com o seguinte código (altere o que for necessário):\n",
    "```python\n",
    "# instanciando o objeto\n",
    "dh = DataHora()\n",
    "\n",
    "# definindo a data_hora através da propriedade\n",
    "dh.data_hora = '05/02/2024, 12:30'\n",
    "\n",
    "## editando a data_hora através da função somaDias\n",
    "dh.data_hora = dh.somaDias(30)\n",
    "\n",
    "## imprimindo a data_hora editada e se é passado\n",
    "print(dh.data_hora, dh.isPassado())\n",
    "```"
   ]
  },
  {
   "cell_type": "code",
   "execution_count": 5,
   "metadata": {},
   "outputs": [
    {
     "name": "stdout",
     "output_type": "stream",
     "text": [
      "01/10/2024, 09:57\n",
      "05/02/2024, 12:30\n",
      "06/03/2024, 12:30 True\n"
     ]
    }
   ],
   "source": [
    "#### Classe DataHora\n",
    "\n",
    "import datetime\n",
    "\n",
    "class DataHora():\n",
    "    FORMAT = '%d/%m/%Y, %H:%M'\n",
    "\n",
    "    def __init__(self):\n",
    "        self._data_hora = datetime.datetime.now()\n",
    "\n",
    "    @property\n",
    "    def data_hora(self):\n",
    "        return datetime.datetime.strftime(self._data_hora, self.__class__.FORMAT) \n",
    "    \n",
    "    @data_hora.setter\n",
    "    def data_hora(self, data_hora):\n",
    "        try:\n",
    "            self._data_hora = datetime.datetime.strptime(data_hora, self.__class__.FORMAT)\n",
    "        except ValueError as ve:\n",
    "            print('Erro! Valor inválido')\n",
    "            print(ve.args)\n",
    "    \n",
    "    def isPassado(self):\n",
    "        return True if self._data_hora < datetime.datetime.now() else False\n",
    "    \n",
    "    def somaDias(self,num_dias):\n",
    "        data_hora_somada = self._data_hora + datetime.timedelta(days=num_dias)\n",
    "        return data_hora_somada.strftime(self.__class__.FORMAT)\n",
    "\n",
    "    def __le__(self, other):\n",
    "        return True if self._data_hora <= other._data_hora else False\n",
    "\n",
    "# instanciando o objeto\n",
    "dh = DataHora()\n",
    "\n",
    "# definindo a data_hora através da propriedade\n",
    "print(dh.data_hora)\n",
    "dh.data_hora = '05/02/2024, 12:30'\n",
    "print(dh.data_hora)\n",
    "\n",
    "## editando a data_hora através da função somaDias\n",
    "dh.data_hora = dh.somaDias(30)\n",
    "\n",
    "## imprimindo a data_hora editada e se é passado\n",
    "print(dh.data_hora, dh.isPassado())\n"
   ]
  },
  {
   "cell_type": "markdown",
   "metadata": {},
   "source": [
    "#### Q3.\n",
    "Crie a classe `EventoUnico`:\n",
    "* A classe deve herdar de `EventoABC`.\n",
    "* Possui o atributo de instância `_data_hora` (classe `DataHora` que criamos previamente).\n",
    "* Seu construtor deve receber e inicializar os atributos da superclasse, além do valor de `_data_hora` recebido como uma string formatada (`%d/%m/%Y, %H:%M`). Note que para alterar `_data_hora` (objeto tipo `DataHora`), você deve manipular a propriedade interna da classe.\n",
    "*  Implementa os métodos abstratos da superclasse:\n",
    "    * Método `isConcluido()` que invoca o método `isPassado()` de `_data_hora` e retorna o seu resultado.\n",
    "    * Método `__str__` que imprime os atributos do evento na forma `\"Evento: _titulo, Data: _data_hora, Descrição: _descricao, Concluido: isConcluido()\"`. Note que `isConcluido()` é o método de avaliação implementado. \n",
    "* Crie o método de instância `editar_data_hora` que recebe uma string formatada e altera `_data_hora` (através de sua propriedade interna).\n",
    "    \n",
    "    \n",
    "Teste a classe `EventoUnico` com o seguinte código:\n",
    "```python\n",
    "# criar evento\n",
    "evento = EventoUnico('Reunião', 'Sala 302, prédio da esquina', '05/10/2023, 16:30')\n",
    "print(evento)\n",
    "\n",
    "# editar data do evento (através da propriedade)\n",
    "evento.editar_data_hora('05/10/2024, 16:30')\n",
    "print(evento)\n",
    "```"
   ]
  },
  {
   "cell_type": "code",
   "execution_count": 8,
   "metadata": {},
   "outputs": [
    {
     "name": "stdout",
     "output_type": "stream",
     "text": [
      "Evento: Reunião, Descrição: Sala 302, prédio da esquina, Concluído: True\n",
      "Evento: Reunião, Descrição: Sala 302, prédio da esquina, Concluído: False\n"
     ]
    }
   ],
   "source": [
    "#### Classe EventoUnico\n",
    "\n",
    "class EventoUnico(EventoABC):\n",
    "    def __init__(self, titulo, descricao, _data_hora):\n",
    "        super().__init__(titulo, descricao)\n",
    "        self._data_hora = DataHora()\n",
    "        self._data_hora.data_hora = _data_hora\n",
    "\n",
    "    def __str__(self): \n",
    "        return f'Evento: {self._titulo}, Descrição: {self._descricao}, Concluído: {self.isConcluido()}'\n",
    "\n",
    "    def isConcluido(self):\n",
    "        return True if self._data_hora.isPassado() else False\n",
    "\n",
    "    def editar_data_hora(self, data_hora):\n",
    "        self._data_hora.data_hora = data_hora\n",
    "\n",
    "evento = EventoUnico('Reunião', 'Sala 302, prédio da esquina', '05/10/2023, 16:30')\n",
    "print(evento)\n",
    "\n",
    "evento.editar_data_hora('05/10/2024, 16:30')\n",
    "print(evento)"
   ]
  },
  {
   "cell_type": "markdown",
   "metadata": {},
   "source": [
    "#### Q4.\n",
    "Crie a classe `EventoRecorrente`:\n",
    "* A classe deve herdar de `EventoABC`.\n",
    "* Possui como atributo próprio uma lista privada de objetos `DataHora` (como você deve nomear o atributo?).\n",
    "* Seu construtor recebe os atributos da superclasse, além dos atributos `data_hora_inicial` (string formatada), `data_hora_final` (string formatada) e `intervalo_repeticao` (int), sendo o intervalo dado em dias. Preencha a coleção `DataHora` de acordo com o intervalo de repetição fornecido. Dica: crie o objeto `DataHora` inicial e use sua função interna `somaDias` para criar iterativamente as novas instâncias do intervalo até chegar em `DataHora` final. \n",
    "*  Implementa os métodos abstratos da superclasse:\n",
    "    * Método `isConcluido(indice)` que que invoca o método `isPassado()` do elemento `indice` da coleção de objetos `DataHora` e retorna seu resultado. \n",
    "    * Método `__str__` que imprime (em um laço) **todos as ocorrências `i` do evento** na forma `\"Evento: _titulo, Data: data_hora[i], Descrição: _descricao, Concluido: isConcluido(i)\"`. \n",
    "* Crie o método `editar_data_hora` que recebe `data_hora_antiga` e `data_hora_nova` e altera o elemento da coleção de objetos `DataHora` que corresponde a `data_hora_antiga` fornecida.    \n",
    "\n",
    "\n",
    "Teste a classe `EventoRecorrente` com o seguinte código:\n",
    "```python\n",
    "# criar evento\n",
    "eventos = EventoRecorrente(\n",
    "    'Reunião', 'Sala 302, prédio da esquina', \n",
    "    '05/01/2024, 16:30', '05/01/2025, 16:30', 30)\n",
    "\n",
    "# imprimir eventos\n",
    "print(eventos)\n",
    "\n",
    "# editar um dos eventos\n",
    "eventos.editar_data_hora('05/12/2024, 16:30', '05/12/2024, 11:30')\n",
    "\n",
    "# imprimir eventos\n",
    "print(eventos)\n",
    "```"
   ]
  },
  {
   "cell_type": "code",
   "execution_count": 11,
   "metadata": {},
   "outputs": [
    {
     "name": "stdout",
     "output_type": "stream",
     "text": [
      "Evento: Reunião, Data: 05/01/2024, 16:30, Descrição: Sala 302, prédio da esquina, Concluido: True\n",
      "Evento: Reunião, Data: 04/02/2024, 16:30, Descrição: Sala 302, prédio da esquina, Concluido: True\n",
      "Evento: Reunião, Data: 05/03/2024, 16:30, Descrição: Sala 302, prédio da esquina, Concluido: True\n",
      "Evento: Reunião, Data: 04/04/2024, 16:30, Descrição: Sala 302, prédio da esquina, Concluido: True\n",
      "Evento: Reunião, Data: 04/05/2024, 16:30, Descrição: Sala 302, prédio da esquina, Concluido: True\n",
      "Evento: Reunião, Data: 03/06/2024, 16:30, Descrição: Sala 302, prédio da esquina, Concluido: True\n",
      "Evento: Reunião, Data: 03/07/2024, 16:30, Descrição: Sala 302, prédio da esquina, Concluido: True\n",
      "Evento: Reunião, Data: 02/08/2024, 16:30, Descrição: Sala 302, prédio da esquina, Concluido: True\n",
      "Evento: Reunião, Data: 01/09/2024, 16:30, Descrição: Sala 302, prédio da esquina, Concluido: True\n",
      "Evento: Reunião, Data: 01/10/2024, 16:30, Descrição: Sala 302, prédio da esquina, Concluido: False\n",
      "Evento: Reunião, Data: 31/10/2024, 16:30, Descrição: Sala 302, prédio da esquina, Concluido: False\n",
      "Evento: Reunião, Data: 30/11/2024, 16:30, Descrição: Sala 302, prédio da esquina, Concluido: False\n",
      "Evento: Reunião, Data: 30/12/2024, 16:30, Descrição: Sala 302, prédio da esquina, Concluido: False \n",
      "\n",
      "Lista editada\n",
      "Evento: Reunião, Data: 05/01/2024, 16:30, Descrição: Sala 302, prédio da esquina, Concluido: True\n",
      "Evento: Reunião, Data: 04/02/2024, 16:30, Descrição: Sala 302, prédio da esquina, Concluido: True\n",
      "Evento: Reunião, Data: 05/03/2024, 16:30, Descrição: Sala 302, prédio da esquina, Concluido: True\n",
      "Evento: Reunião, Data: 04/04/2024, 16:30, Descrição: Sala 302, prédio da esquina, Concluido: True\n",
      "Evento: Reunião, Data: 04/05/2024, 16:30, Descrição: Sala 302, prédio da esquina, Concluido: True\n",
      "Evento: Reunião, Data: 03/06/2024, 16:30, Descrição: Sala 302, prédio da esquina, Concluido: True\n",
      "Evento: Reunião, Data: 03/07/2024, 16:30, Descrição: Sala 302, prédio da esquina, Concluido: True\n",
      "Evento: Reunião, Data: 02/08/2024, 16:30, Descrição: Sala 302, prédio da esquina, Concluido: True\n",
      "Evento: Reunião, Data: 01/09/2024, 16:30, Descrição: Sala 302, prédio da esquina, Concluido: True\n",
      "Evento: Reunião, Data: 01/10/2024, 16:30, Descrição: Sala 302, prédio da esquina, Concluido: False\n",
      "Evento: Reunião, Data: 31/10/2024, 16:30, Descrição: Sala 302, prédio da esquina, Concluido: False\n",
      "Evento: Reunião, Data: 30/11/2024, 16:30, Descrição: Sala 302, prédio da esquina, Concluido: False\n",
      "Evento: Reunião, Data: 05/12/2024, 11:30, Descrição: Sala 302, prédio da esquina, Concluido: False\n"
     ]
    }
   ],
   "source": [
    "class EventoRecorrente(EventoABC):\n",
    "    def __init__(self, titulo, descricao, data_hora_inicial, data_hora_final, intervalo_repeticao):\n",
    "        super().__init__(titulo,descricao)\n",
    "        dhi = DataHora()\n",
    "        dhi.data_hora = data_hora_inicial\n",
    "        \n",
    "        dhf = DataHora()\n",
    "        dhf.data_hora = data_hora_final\n",
    "\n",
    "        self._intervalo_repeticao = intervalo_repeticao\n",
    "        self._ocorrencias = []\n",
    "        self._preencher_agenda(dhi, dhf)\n",
    "\n",
    "    def _preencher_agenda(self, dhi, dhf):\n",
    "        while dhi <= dhf:\n",
    "            self._ocorrencias.append(dhi) #adiciona data atual na lista\n",
    "            data_atual_str = dhi.somaDias(self._intervalo_repeticao) #Armazena string retornada na soma do intervalo\n",
    "            data_atual = DataHora() #cria nova instância \n",
    "            data_atual.data_hora = data_atual_str #define data_hora da instância\n",
    "            dhi = data_atual #atualiza data_hora atual\n",
    "\n",
    "\n",
    "    def __str__(self): \n",
    "        resultado = []\n",
    "\n",
    "        #iterar todos os valores das ocorrências\n",
    "        for i, data_hora in enumerate(self._ocorrencias):\n",
    "            resultado.append(\n",
    "                f\"Evento: {self._titulo}, Data: {data_hora.data_hora}, Descrição: {self._descricao}, Concluido: {data_hora.isPassado()}\"\n",
    "            )\n",
    "        return \"\\n\".join(resultado) #junta em uma string\n",
    "    \n",
    "    def isConcluido(self, indice):\n",
    "        return self._ocorrencias[indice].isPassado()\n",
    "    \n",
    "    def editar_data_hora(self, data_hora_antiga, data_hora_nova):\n",
    "        for i in range(len(self._ocorrencias)):\n",
    "            if self._ocorrencias[i].data_hora == data_hora_antiga:\n",
    "                self._ocorrencias[i].data_hora = data_hora_nova\n",
    "\n",
    "\n",
    "eventos = EventoRecorrente(\n",
    "    'Reunião', 'Sala 302, prédio da esquina', \n",
    "    '05/01/2024, 16:30', '05/01/2025, 16:30', 30)\n",
    "\n",
    "# imprimir eventos\n",
    "print(eventos, '\\n')\n",
    "\n",
    "# editar um dos eventos\n",
    "eventos.editar_data_hora('30/12/2024, 16:30', '05/12/2024, 11:30')\n",
    "\n",
    "# imprimir eventos\n",
    "print('Lista editada')\n",
    "print(eventos)"
   ]
  },
  {
   "cell_type": "markdown",
   "metadata": {},
   "source": [
    "#### Q5.\n",
    "\n",
    "Por fim, vamos só ver o polimorfismo em ação. Crie e preencha uma lista de eventos, sendo alguns do tipo `EventoUnico` e outros do tipo `EventoRecorrente`. Sobre essa lista, execute o laço de impressão a seguir:\n",
    "```python\n",
    "for evento in lista_eventos: print(evento)\n",
    "```\n",
    "A função `print` irá invocar o método especial `__str__` das classes correspondentes dependendo do tipo do objeto recebido. Aí está o polimorfismo :)"
   ]
  },
  {
   "cell_type": "code",
   "execution_count": 15,
   "metadata": {},
   "outputs": [
    {
     "name": "stdout",
     "output_type": "stream",
     "text": [
      "Evento: Comer, Descrição: yammy, Concluído: True\n",
      "Evento: Comer, Data: 01/05/2024, 16:30, Descrição: yammy, Concluido: True\n",
      "Evento: Comer, Data: 31/05/2024, 16:30, Descrição: yammy, Concluido: True\n",
      "Evento: Comer, Data: 30/06/2024, 16:30, Descrição: yammy, Concluido: True\n",
      "Evento: Comer, Data: 30/07/2024, 16:30, Descrição: yammy, Concluido: True\n",
      "Evento: Comer, Data: 29/08/2024, 16:30, Descrição: yammy, Concluido: True\n",
      "Evento: Comer, Data: 28/09/2024, 16:30, Descrição: yammy, Concluido: True\n",
      "Evento: Comer, Data: 28/10/2024, 16:30, Descrição: yammy, Concluido: False\n",
      "Evento: Comer, Data: 27/11/2024, 16:30, Descrição: yammy, Concluido: False\n",
      "Evento: Comer, Data: 27/12/2024, 16:30, Descrição: yammy, Concluido: False\n",
      "Evento: Comer, Descrição: yammy, Concluído: True\n",
      "Evento: Comer, Descrição: yammy, Concluído: True\n",
      "Evento: Comer, Data: 01/08/2024, 16:30, Descrição: yammy, Concluido: True\n",
      "Evento: Comer, Data: 31/08/2024, 16:30, Descrição: yammy, Concluido: True\n",
      "Evento: Comer, Data: 30/09/2024, 16:30, Descrição: yammy, Concluido: True\n",
      "Evento: Comer, Data: 30/10/2024, 16:30, Descrição: yammy, Concluido: False\n",
      "Evento: Comer, Data: 29/11/2024, 16:30, Descrição: yammy, Concluido: False\n",
      "Evento: Comer, Data: 29/12/2024, 16:30, Descrição: yammy, Concluido: False\n"
     ]
    }
   ],
   "source": [
    "evu1 = EventoUnico('Comer', 'yammy', '05/10/2023, 16:30')\n",
    "evr1 = EventoRecorrente('Comer', 'yammy','01/05/2024, 16:30', '05/01/2025, 16:30', 30)\n",
    "evu2 = EventoUnico('Comer', 'yammy', '05/10/2023, 16:30')\n",
    "evu3 = EventoUnico('Comer', 'yammy', '05/10/2023, 16:30')\n",
    "evr2 = EventoRecorrente('Comer', 'yammy','01/08/2024, 16:30', '05/01/2025, 16:30', 30)\n",
    "\n",
    "lista_eventos = [evu1,evr1,evu2,evu3,evr2]\n",
    "\n",
    "for evento in lista_eventos: print(evento)"
   ]
  }
 ],
 "metadata": {
  "kernelspec": {
   "display_name": "Python 3",
   "language": "python",
   "name": "python3"
  },
  "language_info": {
   "codemirror_mode": {
    "name": "ipython",
    "version": 3
   },
   "file_extension": ".py",
   "mimetype": "text/x-python",
   "name": "python",
   "nbconvert_exporter": "python",
   "pygments_lexer": "ipython3",
   "version": "3.12.6"
  }
 },
 "nbformat": 4,
 "nbformat_minor": 2
}
