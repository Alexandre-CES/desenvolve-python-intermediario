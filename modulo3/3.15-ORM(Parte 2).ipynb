{
 "cells": [
  {
   "cell_type": "markdown",
   "metadata": {},
   "source": [
    "## Exercícios\n",
    "\n",
    "> Retirados de [learn-python: sqlalchemy_orm-questions](https://aviadr1.github.io/learn-advanced-python/11_db_access/exercise/sqlalchemy_orm-questions.html).\n",
    "\n",
    "#### Q1.\n",
    "\n",
    "Baixa e extraia o arquivo compactado com o banco de dados [Chinook database](https://www.sqlitetutorial.net/sqlite-sample-database/). Salve o arquivo `chinook.db` na mesma pasta deste script.\n",
    "* Link para baixar: http://www.sqlitetutorial.net/wp-content/uploads/2018/03/chinook.zip\n",
    "\n",
    "<img width=500 src=https://www.sqlitetutorial.net/wp-content/uploads/2015/11/sqlite-sample-database-color.jpg>\n"
   ]
  },
  {
   "cell_type": "markdown",
   "metadata": {},
   "source": [
    "#### Q2.\n",
    "\n",
    "Leia o código e os comentários das células a seguir para entender como acessamos os modelos ORM de um banco já existente."
   ]
  },
  {
   "cell_type": "code",
   "execution_count": 27,
   "metadata": {},
   "outputs": [
    {
     "name": "stdout",
     "output_type": "stream",
     "text": [
      "albums\n",
      "['AlbumId', 'Title', 'ArtistId']\n",
      "[('AlbumId', Column('AlbumId', INTEGER(), table=<albums>, primary_key=True, nullable=False)), ('Title', Column('Title', NVARCHAR(length=160), table=<albums>, nullable=False)), ('ArtistId', Column('ArtistId', INTEGER(), ForeignKey('artists.ArtistId'), table=<albums>, nullable=False))]\n",
      "-------------------------\n",
      "artists\n",
      "['ArtistId', 'Name']\n",
      "[('ArtistId', Column('ArtistId', INTEGER(), table=<artists>, primary_key=True, nullable=False)), ('Name', Column('Name', NVARCHAR(length=120), table=<artists>))]\n",
      "-------------------------\n",
      "customers\n",
      "['CustomerId', 'FirstName', 'LastName', 'Company', 'Address', 'City', 'State', 'Country', 'PostalCode', 'Phone', 'Fax', 'Email', 'SupportRepId']\n",
      "[('CustomerId', Column('CustomerId', INTEGER(), table=<customers>, primary_key=True, nullable=False)), ('FirstName', Column('FirstName', NVARCHAR(length=40), table=<customers>, nullable=False)), ('LastName', Column('LastName', NVARCHAR(length=20), table=<customers>, nullable=False)), ('Company', Column('Company', NVARCHAR(length=80), table=<customers>)), ('Address', Column('Address', NVARCHAR(length=70), table=<customers>)), ('City', Column('City', NVARCHAR(length=40), table=<customers>)), ('State', Column('State', NVARCHAR(length=40), table=<customers>)), ('Country', Column('Country', NVARCHAR(length=40), table=<customers>)), ('PostalCode', Column('PostalCode', NVARCHAR(length=10), table=<customers>)), ('Phone', Column('Phone', NVARCHAR(length=24), table=<customers>)), ('Fax', Column('Fax', NVARCHAR(length=24), table=<customers>)), ('Email', Column('Email', NVARCHAR(length=60), table=<customers>, nullable=False)), ('SupportRepId', Column('SupportRepId', INTEGER(), ForeignKey('employees.EmployeeId'), table=<customers>))]\n",
      "-------------------------\n",
      "employees\n",
      "['EmployeeId', 'LastName', 'FirstName', 'Title', 'ReportsTo', 'BirthDate', 'HireDate', 'Address', 'City', 'State', 'Country', 'PostalCode', 'Phone', 'Fax', 'Email']\n",
      "[('EmployeeId', Column('EmployeeId', INTEGER(), table=<employees>, primary_key=True, nullable=False)), ('LastName', Column('LastName', NVARCHAR(length=20), table=<employees>, nullable=False)), ('FirstName', Column('FirstName', NVARCHAR(length=20), table=<employees>, nullable=False)), ('Title', Column('Title', NVARCHAR(length=30), table=<employees>)), ('ReportsTo', Column('ReportsTo', INTEGER(), ForeignKey('employees.EmployeeId'), table=<employees>)), ('BirthDate', Column('BirthDate', DATETIME(), table=<employees>)), ('HireDate', Column('HireDate', DATETIME(), table=<employees>)), ('Address', Column('Address', NVARCHAR(length=70), table=<employees>)), ('City', Column('City', NVARCHAR(length=40), table=<employees>)), ('State', Column('State', NVARCHAR(length=40), table=<employees>)), ('Country', Column('Country', NVARCHAR(length=40), table=<employees>)), ('PostalCode', Column('PostalCode', NVARCHAR(length=10), table=<employees>)), ('Phone', Column('Phone', NVARCHAR(length=24), table=<employees>)), ('Fax', Column('Fax', NVARCHAR(length=24), table=<employees>)), ('Email', Column('Email', NVARCHAR(length=60), table=<employees>))]\n",
      "-------------------------\n",
      "genres\n",
      "['GenreId', 'Name']\n",
      "[('GenreId', Column('GenreId', INTEGER(), table=<genres>, primary_key=True, nullable=False)), ('Name', Column('Name', NVARCHAR(length=120), table=<genres>))]\n",
      "-------------------------\n",
      "invoice_items\n",
      "['InvoiceLineId', 'InvoiceId', 'TrackId', 'UnitPrice', 'Quantity']\n",
      "[('InvoiceLineId', Column('InvoiceLineId', INTEGER(), table=<invoice_items>, primary_key=True, nullable=False)), ('InvoiceId', Column('InvoiceId', INTEGER(), ForeignKey('invoices.InvoiceId'), table=<invoice_items>, nullable=False)), ('TrackId', Column('TrackId', INTEGER(), ForeignKey('tracks.TrackId'), table=<invoice_items>, nullable=False)), ('UnitPrice', Column('UnitPrice', NUMERIC(precision=10, scale=2), table=<invoice_items>, nullable=False)), ('Quantity', Column('Quantity', INTEGER(), table=<invoice_items>, nullable=False))]\n",
      "-------------------------\n",
      "tracks\n",
      "['TrackId', 'Name', 'AlbumId', 'MediaTypeId', 'GenreId', 'Composer', 'Milliseconds', 'Bytes', 'UnitPrice']\n",
      "[('TrackId', Column('TrackId', INTEGER(), table=<tracks>, primary_key=True, nullable=False)), ('Name', Column('Name', NVARCHAR(length=200), table=<tracks>, nullable=False)), ('AlbumId', Column('AlbumId', INTEGER(), ForeignKey('albums.AlbumId'), table=<tracks>)), ('MediaTypeId', Column('MediaTypeId', INTEGER(), ForeignKey('media_types.MediaTypeId'), table=<tracks>, nullable=False)), ('GenreId', Column('GenreId', INTEGER(), ForeignKey('genres.GenreId'), table=<tracks>)), ('Composer', Column('Composer', NVARCHAR(length=220), table=<tracks>)), ('Milliseconds', Column('Milliseconds', INTEGER(), table=<tracks>, nullable=False)), ('Bytes', Column('Bytes', INTEGER(), table=<tracks>)), ('UnitPrice', Column('UnitPrice', NUMERIC(precision=10, scale=2), table=<tracks>, nullable=False))]\n",
      "-------------------------\n",
      "media_types\n",
      "['MediaTypeId', 'Name']\n",
      "[('MediaTypeId', Column('MediaTypeId', INTEGER(), table=<media_types>, primary_key=True, nullable=False)), ('Name', Column('Name', NVARCHAR(length=120), table=<media_types>))]\n",
      "-------------------------\n",
      "invoices\n",
      "['InvoiceId', 'CustomerId', 'InvoiceDate', 'BillingAddress', 'BillingCity', 'BillingState', 'BillingCountry', 'BillingPostalCode', 'Total']\n",
      "[('InvoiceId', Column('InvoiceId', INTEGER(), table=<invoices>, primary_key=True, nullable=False)), ('CustomerId', Column('CustomerId', INTEGER(), ForeignKey('customers.CustomerId'), table=<invoices>, nullable=False)), ('InvoiceDate', Column('InvoiceDate', DATETIME(), table=<invoices>, nullable=False)), ('BillingAddress', Column('BillingAddress', NVARCHAR(length=70), table=<invoices>)), ('BillingCity', Column('BillingCity', NVARCHAR(length=40), table=<invoices>)), ('BillingState', Column('BillingState', NVARCHAR(length=40), table=<invoices>)), ('BillingCountry', Column('BillingCountry', NVARCHAR(length=40), table=<invoices>)), ('BillingPostalCode', Column('BillingPostalCode', NVARCHAR(length=10), table=<invoices>)), ('Total', Column('Total', NUMERIC(precision=10, scale=2), table=<invoices>, nullable=False))]\n",
      "-------------------------\n",
      "playlist_track\n",
      "['PlaylistId', 'TrackId']\n",
      "[('PlaylistId', Column('PlaylistId', INTEGER(), ForeignKey('playlists.PlaylistId'), table=<playlist_track>, primary_key=True, nullable=False)), ('TrackId', Column('TrackId', INTEGER(), ForeignKey('tracks.TrackId'), table=<playlist_track>, primary_key=True, nullable=False))]\n",
      "-------------------------\n",
      "playlists\n",
      "['PlaylistId', 'Name']\n",
      "[('PlaylistId', Column('PlaylistId', INTEGER(), table=<playlists>, primary_key=True, nullable=False)), ('Name', Column('Name', NVARCHAR(length=120), table=<playlists>))]\n",
      "-------------------------\n",
      "[('genres', <class 'sqlalchemy.ext.automap.genres'>), ('artists', <class 'sqlalchemy.ext.automap.artists'>), ('employees', <class 'sqlalchemy.ext.automap.employees'>), ('media_types', <class 'sqlalchemy.ext.automap.media_types'>), ('invoices', <class 'sqlalchemy.ext.automap.invoices'>), ('customers', <class 'sqlalchemy.ext.automap.customers'>), ('tracks', <class 'sqlalchemy.ext.automap.tracks'>), ('playlists', <class 'sqlalchemy.ext.automap.playlists'>), ('invoice_items', <class 'sqlalchemy.ext.automap.invoice_items'>), ('albums', <class 'sqlalchemy.ext.automap.albums'>)]\n"
     ]
    }
   ],
   "source": [
    "from sqlalchemy import create_engine, text, MetaData\n",
    "from sqlalchemy.orm import Session\n",
    "\n",
    "engine = create_engine(\"sqlite+pysqlite:///chinook.db\", echo=False)\n",
    "\n",
    "### extrai as classes da base de dados Chinook\n",
    "metadata = MetaData()\n",
    "metadata.reflect(engine)\n",
    "\n",
    "# O metadata tem informações sobre as tabelas\n",
    "# que serão usadas para criar os modelos ORM\n",
    "for table_name, table in metadata.tables.items():\n",
    "    print(table_name)\n",
    "    print(table.columns.keys())\n",
    "    print(table.columns.items())\n",
    "    print('-'*25)\n",
    "\n",
    "### configura o objeto Base mapeando os modelos ORM das tabelas\n",
    "from sqlalchemy.ext.automap import automap_base\n",
    "Base = automap_base(metadata=metadata)\n",
    "Base.prepare()\n",
    "\n",
    "# o objeto Base tem os modelos ORM que podemos usar\n",
    "# para manipular o banco de dados\n",
    "print(Base.classes.items())"
   ]
  },
  {
   "cell_type": "code",
   "execution_count": 28,
   "metadata": {},
   "outputs": [
    {
     "name": "stdout",
     "output_type": "stream",
     "text": [
      "1 For Those About To Rock We Salute You\n"
     ]
    }
   ],
   "source": [
    "# A seguir um exemplo de query na tabela Albums\n",
    "# usamos o objeto Base para acessar cada modelo ORM.\n",
    "\n",
    "from sqlalchemy import select\n",
    "\n",
    "session = Session(engine)\n",
    "res = session.scalars(select(Base.classes.albums))\n",
    "first_album = res.first()\n",
    "print(first_album.AlbumId, first_album.Title)"
   ]
  },
  {
   "cell_type": "markdown",
   "metadata": {},
   "source": [
    "#### Q3. \n",
    "Com base nos códigos anteriores realize as operações solicitadas nas células a seguir:\n"
   ]
  },
  {
   "cell_type": "code",
   "execution_count": 31,
   "metadata": {},
   "outputs": [
    {
     "name": "stdout",
     "output_type": "stream",
     "text": [
      "{'Name': 'For Those About To Rock (We Salute You)', 'MediaTypeId': 1, 'Composer': 'Angus Young, Malcolm Young, Brian Johnson', 'Milliseconds': 343719, 'UnitPrice': Decimal('0.99'), 'TrackId': 1, 'AlbumId': 1, 'GenreId': 1, 'Bytes': 11170334}\n",
      "{'Name': 'Balls to the Wall', 'MediaTypeId': 2, 'Composer': None, 'Milliseconds': 342562, 'UnitPrice': Decimal('0.99'), 'TrackId': 2, 'AlbumId': 2, 'GenreId': 1, 'Bytes': 5510424}\n",
      "{'Name': 'Fast As a Shark', 'MediaTypeId': 2, 'Composer': 'F. Baltes, S. Kaufman, U. Dirkscneider & W. Hoffman', 'Milliseconds': 230619, 'UnitPrice': Decimal('0.99'), 'TrackId': 3, 'AlbumId': 3, 'GenreId': 1, 'Bytes': 3990994}\n"
     ]
    }
   ],
   "source": [
    "### Imprima os três primeiros registros da tabela tracks\n",
    "\n",
    "query = select(Base.classes.tracks).limit(3)\n",
    "\n",
    "result = session.execute(query).scalars().all()\n",
    "\n",
    "for row in result:\n",
    "    session.expunge(row) #To not break the code when it execute a second time\n",
    "\n",
    "    #parse to dict so i don't have to type every column in the row\n",
    "    row_dict = row.__dict__\n",
    "    row_dict.pop('_sa_instance_state', None)\n",
    "    print(row_dict)"
   ]
  },
  {
   "cell_type": "code",
   "execution_count": 39,
   "metadata": {},
   "outputs": [
    {
     "name": "stdout",
     "output_type": "stream",
     "text": [
      "faixa: For Those About To Rock (We Salute You), título do álbum: For Those About To Rock We Salute You\n",
      "faixa: Balls to the Wall, título do álbum: Balls to the Wall\n",
      "faixa: Fast As a Shark, título do álbum: Restless and Wild\n",
      "faixa: Restless and Wild, título do álbum: Restless and Wild\n",
      "faixa: Princess of the Dawn, título do álbum: Restless and Wild\n",
      "faixa: Put The Finger On You, título do álbum: For Those About To Rock We Salute You\n",
      "faixa: Let's Get It Up, título do álbum: For Those About To Rock We Salute You\n",
      "faixa: Inject The Venom, título do álbum: For Those About To Rock We Salute You\n",
      "faixa: Snowballed, título do álbum: For Those About To Rock We Salute You\n",
      "faixa: Evil Walks, título do álbum: For Those About To Rock We Salute You\n",
      "faixa: C.O.D., título do álbum: For Those About To Rock We Salute You\n",
      "faixa: Breaking The Rules, título do álbum: For Those About To Rock We Salute You\n",
      "faixa: Night Of The Long Knives, título do álbum: For Those About To Rock We Salute You\n",
      "faixa: Spellbound, título do álbum: For Those About To Rock We Salute You\n",
      "faixa: Go Down, título do álbum: Let There Be Rock\n",
      "faixa: Dog Eat Dog, título do álbum: Let There Be Rock\n",
      "faixa: Let There Be Rock, título do álbum: Let There Be Rock\n",
      "faixa: Bad Boy Boogie, título do álbum: Let There Be Rock\n",
      "faixa: Problem Child, título do álbum: Let There Be Rock\n",
      "faixa: Overdose, título do álbum: Let There Be Rock\n"
     ]
    }
   ],
   "source": [
    "### Imprima o nome da faixa e o título do álbum das primeiras 20 faixas na tabela tracks.\n",
    "query = (select(\n",
    "    Base.classes.tracks,\n",
    "    Base.classes.albums\n",
    ")   \n",
    "    .where(Base.classes.albums.AlbumId == Base.classes.tracks.AlbumId)\n",
    "    .order_by(Base.classes.tracks.TrackId)\n",
    "    .limit(20)\n",
    ")\n",
    "\n",
    "result = session.execute(query).all()\n",
    "\n",
    "for track, album in result:\n",
    "    print(f'faixa: {track.Name}, título do álbum: {album.Title}')"
   ]
  },
  {
   "cell_type": "code",
   "execution_count": 41,
   "metadata": {},
   "outputs": [
    {
     "name": "stdout",
     "output_type": "stream",
     "text": [
      "Nome: Balls to the Wall, quantidade vendida: 1\n",
      "Nome: Restless and Wild, quantidade vendida: 1\n",
      "Nome: Put The Finger On You, quantidade vendida: 1\n",
      "Nome: Inject The Venom, quantidade vendida: 1\n",
      "Nome: Evil Walks, quantidade vendida: 1\n",
      "Nome: Breaking The Rules, quantidade vendida: 1\n",
      "Nome: Dog Eat Dog, quantidade vendida: 1\n",
      "Nome: Overdose, quantidade vendida: 1\n",
      "Nome: Love In An Elevator, quantidade vendida: 1\n",
      "Nome: Janie's Got A Gun, quantidade vendida: 1\n"
     ]
    }
   ],
   "source": [
    "### Imprima as 10 primeiras vendas de faixas da tabela invoice_items\n",
    "### Para essas 10 primeiras vendas, imprima os nomes das faixas vendidas e a quantidade vendida.\n",
    "\n",
    "query = (select(\n",
    "    Base.classes.invoice_items,\n",
    "    Base.classes.tracks\n",
    ")\n",
    ".where(Base.classes.tracks.TrackId == Base.classes.invoice_items.TrackId)\n",
    ".order_by(Base.classes.invoice_items.InvoiceLineId)\n",
    ".limit(10)\n",
    ")\n",
    "\n",
    "result = session.execute(query).all()\n",
    "\n",
    "for item, track in result:\n",
    "    print(f'Nome: {track.Name}, quantidade vendida: {item.Quantity}')"
   ]
  },
  {
   "cell_type": "code",
   "execution_count": 47,
   "metadata": {},
   "outputs": [
    {
     "name": "stdout",
     "output_type": "stream",
     "text": [
      "Nome: The Trooper, quantidade vendida: 5\n",
      "Nome: Untitled, quantidade vendida: 4\n",
      "Nome: The Number Of The Beast, quantidade vendida: 4\n",
      "Nome: Sure Know Something, quantidade vendida: 4\n",
      "Nome: Hallowed Be Thy Name, quantidade vendida: 4\n",
      "Nome: Eruption, quantidade vendida: 4\n",
      "Nome: Where Eagles Dare, quantidade vendida: 3\n",
      "Nome: Welcome Home (Sanitarium), quantidade vendida: 3\n",
      "Nome: Sweetest Thing, quantidade vendida: 3\n",
      "Nome: Surrender, quantidade vendida: 3\n"
     ]
    }
   ],
   "source": [
    "### Imprima os nomes das 10 faixas mais vendidas e quantas vezes foram vendidas.\n",
    "\n",
    "from sqlalchemy import func,desc\n",
    "\n",
    "query = (select(\n",
    "    Base.classes.tracks.Name,\n",
    "    func.sum(Base.classes.invoice_items.Quantity).label('total_sales')\n",
    ")\n",
    ".where(Base.classes.invoice_items.TrackId == Base.classes.tracks.TrackId)\n",
    ".group_by(Base.classes.tracks.Name)\n",
    ".order_by(desc('total_sales'))\n",
    ".limit(10)\n",
    ")\n",
    "\n",
    "result = session.execute(query).all()\n",
    "\n",
    "for name, sales in result:\n",
    "    print(f'Nome: {name}, quantidade vendida: {sales}')"
   ]
  },
  {
   "cell_type": "code",
   "execution_count": 48,
   "metadata": {},
   "outputs": [
    {
     "name": "stdout",
     "output_type": "stream",
     "text": [
      "Nome: Iron Maiden, quantidade vendida: 140\n",
      "Nome: U2, quantidade vendida: 107\n",
      "Nome: Metallica, quantidade vendida: 91\n",
      "Nome: Led Zeppelin, quantidade vendida: 87\n",
      "Nome: Os Paralamas Do Sucesso, quantidade vendida: 45\n",
      "Nome: Deep Purple, quantidade vendida: 44\n",
      "Nome: Faith No More, quantidade vendida: 42\n",
      "Nome: Lost, quantidade vendida: 41\n",
      "Nome: Eric Clapton, quantidade vendida: 40\n",
      "Nome: R.E.M., quantidade vendida: 39\n"
     ]
    }
   ],
   "source": [
    "### Quem são os 10 artistas que mais venderam?\n",
    "### dica: você precisa juntar as tabelas invoice_items, tracks, albums e artists\n",
    "\n",
    "invoice_items = Base.classes.invoice_items\n",
    "tracks = Base.classes.tracks\n",
    "albums = Base. classes.albums\n",
    "artists = Base.classes.artists\n",
    "\n",
    "from sqlalchemy import func,desc\n",
    "\n",
    "query = (select(\n",
    "    artists.Name,\n",
    "    func.sum(invoice_items.Quantity).label('total_sales')\n",
    ")\n",
    ".join(tracks, invoice_items.TrackId == tracks.TrackId)\n",
    ".join(albums, tracks.AlbumId == albums.AlbumId)\n",
    ".join(artists, albums.ArtistId == artists.ArtistId)\n",
    ".group_by(artists.Name)\n",
    ".order_by(desc('total_sales'))\n",
    ".limit(10)\n",
    ")\n",
    "\n",
    "result = session.execute(query).all()\n",
    "\n",
    "for name, sales in result:\n",
    "    print(f'Nome: {name}, quantidade vendida: {sales}')\n"
   ]
  }
 ],
 "metadata": {
  "kernelspec": {
   "display_name": "Python 3",
   "language": "python",
   "name": "python3"
  },
  "language_info": {
   "codemirror_mode": {
    "name": "ipython",
    "version": 3
   },
   "file_extension": ".py",
   "mimetype": "text/x-python",
   "name": "python",
   "nbconvert_exporter": "python",
   "pygments_lexer": "ipython3",
   "version": "3.12.7"
  }
 },
 "nbformat": 4,
 "nbformat_minor": 2
}
